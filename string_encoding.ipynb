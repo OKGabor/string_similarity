{
 "cells": [
  {
   "cell_type": "markdown",
   "metadata": {},
   "source": [
    "## Create encoding and similarity functions"
   ]
  },
  {
   "cell_type": "code",
   "execution_count": 8,
   "metadata": {},
   "outputs": [],
   "source": [
    "# Import numpy and scipy for sparse matrices\n",
    "import numpy as np\n",
    "from scipy import sparse\n",
    "\n",
    "# Define the alphabet as a list of characters\n",
    "alphabet = list(\"abcdefghijklmnopqrstuvwxyz./-*_@£§&#1234567890 \")\n",
    "\n",
    "# Define the number of neurons as the length of the alphabet\n",
    "n_neurons = len(alphabet)\n",
    "\n",
    "# Define a function that encodes a string into a spa&e table\n",
    "def encode_string(string):\n",
    "    # Check if input is a string\n",
    "    if not isinstance(string, str):\n",
    "        raise ValueError(\"Input must be a string\")\n",
    "\n",
    "    # Initialize an empty sparse matrix of shape (n_neurons, n_neurons)\n",
    "    table = sparse.lil_matrix((n_neurons, n_neurons), dtype=int)\n",
    "\n",
    "    # Make the string lowercase\n",
    "    string = string.lower()\n",
    "\n",
    "    # Iterate over the string from the second character\n",
    "    for i in range(1, len(string)):\n",
    "        # Get the current and previous characters\n",
    "        curr = string[i]\n",
    "        prev = string[i-1]\n",
    "\n",
    "        # Find the indices of the characters in the alphabet\n",
    "        try:\n",
    "            curr_idx = alphabet.index(curr)\n",
    "            prev_idx = alphabet.index(prev)\n",
    "        except ValueError:\n",
    "            raise ValueError(f\"Character '{curr}' or '{prev}' not in alphabet\")\n",
    "\n",
    "        # Set the corresponding cell in the table to 1\n",
    "        table[prev_idx, curr_idx] = 1\n",
    "\n",
    "    # Return the table as a sparse coo matrix\n",
    "    return table.tocoo()\n",
    "\n",
    "def similarity_score(str1, str2):\n",
    "    # Check if inputs are strings\n",
    "    if not isinstance(str1, str) or not isinstance(str2, str):\n",
    "        raise ValueError(\"Both inputs must be strings\")\n",
    "\n",
    "    # Encode input strings into sparse tables\n",
    "    try:\n",
    "        table1 = encode_string(str1)\n",
    "        table2 = encode_string(str2)\n",
    "    except ValueError as e:\n",
    "        raise ValueError(\"Error encoding string: \" + str(e))\n",
    "\n",
    "    # Get the row and column indices of the non-zero elements in the tables\n",
    "    rows1, cols1 = table1.nonzero()\n",
    "    rows2, cols2 = table2.nonzero()\n",
    "\n",
    "    # Convert the indices to character pairs\n",
    "    pairs1 = set(zip([alphabet[i] for i in rows1], [alphabet[i] for i in cols1]))\n",
    "    pairs2 = set(zip([alphabet[i] for i in rows2], [alphabet[i] for i in cols2]))\n",
    "\n",
    "    # Calculate the intersection and the cardinality of the pairs\n",
    "    intersection = pairs1.intersection(pairs2)\n",
    "    cardinality = len(pairs1)\n",
    "\n",
    "    # Check if cardinality is zero to avoid division by zero\n",
    "    if cardinality == 0:\n",
    "        raise ValueError(\"Cardinality is zero, cannot calculate similarity score\")\n",
    "\n",
    "    # Calculate the similarity score using the formula\n",
    "    score = len(intersection) / cardinality\n",
    "\n",
    "    # Return the score as a float\n",
    "    return float(score)"
   ]
  },
  {
   "cell_type": "markdown",
   "metadata": {},
   "source": [
    "## Examples"
   ]
  },
  {
   "cell_type": "code",
   "execution_count": 10,
   "metadata": {},
   "outputs": [
    {
     "name": "stdout",
     "output_type": "stream",
     "text": [
      "                  string_1         string_2  similarity_score\n",
      "0                Microsoft         Microsft          0.750000\n",
      "1               Apple Inc.            Apple          0.444444\n",
      "2                   Google         Alphabet          0.000000\n",
      "3             Barack Obama      Barak Obama          0.800000\n",
      "4          John F. Kennedy              JFK          0.000000\n",
      "5                 New York    New York City          1.000000\n",
      "6                   Python           Pyhton          0.400000\n",
      "7         Machine Learning  Machin Learning          0.857143\n",
      "8  Artificial Intelligence               AI          0.000000\n",
      "9                   GitHub           GitHUb          1.000000\n"
     ]
    }
   ],
   "source": [
    "import pandas as pd\n",
    "\n",
    "# Define test cases\n",
    "test_cases = [\n",
    "    (\"Microsoft\", \"Microsft\"),  # Company name with typo\n",
    "    (\"Apple Inc.\", \"Apple\"),  # Full company name vs. short name\n",
    "    (\"Google\", \"Alphabet\"),  # Company name vs. parent company name\n",
    "    (\"Barack Obama\", \"Barak Obama\"),  # Name with typo\n",
    "    (\"John F. Kennedy\", \"JFK\"),  # Full name vs. initials\n",
    "    (\"New York\", \"New York City\"),  # City name vs. full city name\n",
    "    (\"Python\", \"Pyhton\"),  # Programming language name with typo\n",
    "    (\"Machine Learning\", \"Machin Learning\"),  # Field name with typo\n",
    "    (\"Artificial Intelligence\", \"AI\"),  # Full field name vs. abbreviation\n",
    "    (\"GitHub\", \"GitHUb\"),  # Platform name with typo\n",
    "]\n",
    "\n",
    "# Calculate similarity scores for each test case\n",
    "scores = [similarity_score(str1, str2) for str1, str2 in test_cases]\n",
    "\n",
    "# Create DataFrame\n",
    "df = pd.DataFrame(test_cases, columns=[\"string_1\", \"string_2\"])\n",
    "df[\"similarity_score\"] = scores\n",
    "\n",
    "print(df)"
   ]
  },
  {
   "cell_type": "code",
   "execution_count": null,
   "metadata": {},
   "outputs": [],
   "source": []
  }
 ],
 "metadata": {
  "kernelspec": {
   "display_name": "base",
   "language": "python",
   "name": "python3"
  },
  "language_info": {
   "codemirror_mode": {
    "name": "ipython",
    "version": 3
   },
   "file_extension": ".py",
   "mimetype": "text/x-python",
   "name": "python",
   "nbconvert_exporter": "python",
   "pygments_lexer": "ipython3",
   "version": "3.8.3"
  }
 },
 "nbformat": 4,
 "nbformat_minor": 2
}
